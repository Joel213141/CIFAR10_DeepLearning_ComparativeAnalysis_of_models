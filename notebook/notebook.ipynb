{
 "cells": [
  {
   "cell_type": "code",
   "execution_count": 50,
   "id": "d8fd6b80-9dbc-41b0-9a93-bd248ec4aa94",
   "metadata": {
    "tags": []
   },
   "outputs": [
    {
     "name": "stdout",
     "output_type": "stream",
     "text": [
      "tensor([[0.5429, 0.7577, 0.3635],\n",
      "        [0.6378, 0.0492, 0.2370],\n",
      "        [0.2734, 0.6412, 0.8273],\n",
      "        [0.1175, 0.9954, 0.4790],\n",
      "        [0.6432, 0.7306, 0.2157]])\n"
     ]
    }
   ],
   "source": [
    "import torch\n",
    "x = torch.rand(5, 3)\n",
    "print(x)"
   ]
  },
  {
   "cell_type": "code",
   "execution_count": 51,
   "id": "76a4ba62-3c22-414a-b189-71a6e092d865",
   "metadata": {
    "tags": []
   },
   "outputs": [
    {
     "name": "stdout",
     "output_type": "stream",
     "text": [
      "torch.Size([5, 3])\n"
     ]
    }
   ],
   "source": [
    "print(x.size())"
   ]
  },
  {
   "cell_type": "code",
   "execution_count": 52,
   "id": "5a533c52-ead2-4f3e-9915-0fe73e3f0873",
   "metadata": {
    "tags": []
   },
   "outputs": [
    {
     "name": "stdout",
     "output_type": "stream",
     "text": [
      "tensor([[0.6829, 1.4811, 1.0966],\n",
      "        [0.6864, 0.7895, 0.6822],\n",
      "        [0.9123, 0.9137, 1.0481],\n",
      "        [0.5805, 1.6261, 0.8343],\n",
      "        [1.5576, 1.5928, 0.2686]])\n"
     ]
    }
   ],
   "source": [
    "y = torch.rand(5, 3)\n",
    "z = x + y\n",
    "print(z)"
   ]
  },
  {
   "cell_type": "code",
   "execution_count": 53,
   "id": "5404379e-866c-431a-9625-0c3e25797204",
   "metadata": {
    "tags": []
   },
   "outputs": [
    {
     "name": "stdout",
     "output_type": "stream",
     "text": [
      "[[0.54286534 0.75768477 0.36352652]\n",
      " [0.63779086 0.04918712 0.23699206]\n",
      " [0.27335745 0.641163   0.8272784 ]\n",
      " [0.11748272 0.9953671  0.47900957]\n",
      " [0.6431718  0.7306409  0.2157175 ]]\n"
     ]
    }
   ],
   "source": [
    "t = x.numpy()\n",
    "print(t)"
   ]
  },
  {
   "cell_type": "code",
   "execution_count": 54,
   "id": "45d3e98b-c8bb-4934-8f76-8313b2c56906",
   "metadata": {
    "tags": []
   },
   "outputs": [
    {
     "name": "stdout",
     "output_type": "stream",
     "text": [
      "tensor([[0.5429, 0.7577, 0.3635],\n",
      "        [0.6378, 0.0492, 0.2370],\n",
      "        [0.2734, 0.6412, 0.8273],\n",
      "        [0.1175, 0.9954, 0.4790],\n",
      "        [0.6432, 0.7306, 0.2157]])\n"
     ]
    }
   ],
   "source": [
    "u = torch.from_numpy(t)\n",
    "print(u)"
   ]
  },
  {
   "cell_type": "code",
   "execution_count": 55,
   "id": "8a63cd76-eac1-4653-9ee2-00ff8392c8e3",
   "metadata": {},
   "outputs": [
    {
     "name": "stdout",
     "output_type": "stream",
     "text": [
      "99 54.1969108581543\n",
      "199 0.8444271087646484\n",
      "299 0.004268445074558258\n",
      "399 8.778043593338225e-06\n",
      "499 7.6656929692831e-09\n"
     ]
    }
   ],
   "source": [
    "import torch\n",
    "# N is batch size; D_in is input dimension;\n",
    "# H is hidden dimension; D_out is output dimension.\n",
    "N, D_in, H, D_out = 64, 1000, 100, 10\n",
    "# Create random Tensors to hold inputs and outputs\n",
    "x = torch.randn(N, D_in)\n",
    "y = torch.randn(N, D_out)\n",
    "# Use the nn package to define our model and loss function.\n",
    "model = torch.nn.Sequential(\n",
    "    torch.nn.Linear(D_in, H),\n",
    "    torch.nn.ReLU(),\n",
    "    torch.nn.Linear(H, D_out),)\n",
    "loss_fn = torch.nn.MSELoss(reduction='sum')\n",
    "# Use the optim package to define an Optimizer that will update the weights of\n",
    "# the model for us. Here we will use Adam; the optim package contains many other\n",
    "# optimization algorithms. The first argument to the Adam constructor tells the\n",
    "# optimizer which Tensors it should update.\n",
    "learning_rate = 1e-4\n",
    "optimizer = torch.optim.Adam(model.parameters(), lr=learning_rate)\n",
    "for t in range(500):\n",
    "    # Forward pass: compute predicted y by passing x to the model.\n",
    "    y_pred = model(x)\n",
    "    # Compute and print loss.\n",
    "    loss = loss_fn(y_pred, y)\n",
    "    if t % 100 == 99:\n",
    "        print(t, loss.item())\n",
    "    # Before the backward pass, use the optimizer object to zero all of the\n",
    "    # gradients for the variables it will update (which are the learnable\n",
    "    # weights of the model). This is because by default, gradients are\n",
    "    # accumulated in buffers( i.e, not overwritten) whenever .backward()\n",
    "    # is called. Checkout docs of torch.autograd.backward for more details.\n",
    "    optimizer.zero_grad()\n",
    "    # Backward pass: compute gradient of the loss with respect to model\n",
    "    # parameters\n",
    "    loss.backward()\n",
    "    # Calling the step function on an Optimizer makes an update to its\n",
    "    # parameters\n",
    "    optimizer.step()"
   ]
  },
  {
   "cell_type": "code",
   "execution_count": 56,
   "id": "26628ca4-55e5-421d-93bf-e456dae57103",
   "metadata": {
    "tags": []
   },
   "outputs": [],
   "source": [
    "import torch\n",
    "class TwoLayerNet(torch.nn.Module):\n",
    "    def __init__(self, D_in, H, D_out): #D_in: input layer, H: hidden layer, D_out: output layer\n",
    "        \"\"\"\n",
    "        In the constructor we instantiate two nn.Linear modules and assign them as\n",
    "        member variables.\n",
    "        \"\"\"\n",
    "        super(TwoLayerNet, self).__init__()\n",
    "        self.linear1 = torch.nn.Linear(D_in, H)\n",
    "        self.linear2 = torch.nn.Linear(H, D_out)\n",
    "    def forward(self, x):\n",
    "        \"\"\"\n",
    "        In the forward function we accept a Tensor of input data and we must return\n",
    "        a Tensor of output data. We can use Modules defined in the constructor as\n",
    "        well as arbitrary operators on Tensors.\n",
    "        \"\"\"\n",
    "        h_relu = self.linear1(x).clamp(min=0)\n",
    "        y_pred = self.linear2(h_relu)\n",
    "        return y_pred"
   ]
  },
  {
   "cell_type": "code",
   "execution_count": 57,
   "id": "04cc7184-305d-4560-9dcd-e0612d3ae757",
   "metadata": {
    "tags": []
   },
   "outputs": [
    {
     "name": "stdout",
     "output_type": "stream",
     "text": [
      "99 2.5458123683929443\n",
      "199 0.06274399161338806\n",
      "299 0.003221189836040139\n",
      "399 0.00022065309167373925\n",
      "499 1.7449408915126696e-05\n"
     ]
    }
   ],
   "source": [
    "# N is batch size; D_in is input dimension;\n",
    "# H is hidden dimension; D_out is output dimension.\n",
    "N, D_in, H, D_out = 64, 1000, 100, 10\n",
    "# Create random Tensors to hold inputs and outputs\n",
    "x = torch.randn(N, D_in)\n",
    "y = torch.randn(N, D_out)\n",
    "# Construct our model by instantiating the class defined above\n",
    "model = TwoLayerNet(D_in, H, D_out)\n",
    "# Construct our loss function and an Optimizer. The call to model.parameters()\n",
    "# in the SGD constructor will contain the learnable parameters of the two\n",
    "# nn.Linear modules which are members of the model.\n",
    "criterion = torch.nn.MSELoss(reduction='sum')\n",
    "optimizer = torch.optim.SGD(model.parameters(), lr=1e-4)\n",
    "for t in range(500):\n",
    "    # Forward pass: Compute predicted y by passing x to the model\n",
    "    y_pred = model(x)\n",
    "    # Compute and print loss\n",
    "    loss = criterion(y_pred, y)\n",
    "    if t % 100 == 99:\n",
    "        print(t, loss.item())\n",
    "    # Zero gradients, perform a backward pass, and update the weights.\n",
    "    optimizer.zero_grad()\n",
    "    loss.backward()\n",
    "    optimizer.step()"
   ]
  },
  {
   "cell_type": "code",
   "execution_count": 238,
   "id": "3311a773-463e-42c5-b9ce-f739fb2464f8",
   "metadata": {
    "tags": []
   },
   "outputs": [
    {
     "name": "stdout",
     "output_type": "stream",
     "text": [
      "Files already downloaded and verified\n",
      "Files already downloaded and verified\n"
     ]
    }
   ],
   "source": [
    "import torch\n",
    "import torchvision\n",
    "import torchvision.transforms as transforms\n",
    "transform = transforms.Compose(\n",
    "    [transforms.ToTensor(),\n",
    "    transforms.Normalize((0.5, 0.5, 0.5), (0.5, 0.5, 0.5))])\n",
    "trainset = torchvision.datasets.CIFAR10(root='./data',\n",
    "                                        train=True, #for training\n",
    "                                        download=True, transform=transform)\n",
    "trainloader = torch.utils.data.DataLoader(trainset,\n",
    "                                        batch_size=4, #process only 4 images at a time\n",
    "                                        shuffle=True, num_workers=2)\n",
    "testset = torchvision.datasets.CIFAR10(root='./data',\n",
    "                                        train=False, #not for training\n",
    "                                        download=True, transform=transform)\n",
    "testloader = torch.utils.data.DataLoader(testset,\n",
    "batch_size=4, #process only 4 images at a time\n",
    "shuffle=False, num_workers=2)\n",
    "classes = ('plane', 'car', 'bird', 'cat','deer', 'dog', 'frog', 'horse', 'ship', 'truck')"
   ]
  },
  {
   "cell_type": "code",
   "execution_count": 59,
   "id": "98d272b4-6884-4cc5-ad21-5f9bbac59b54",
   "metadata": {
    "tags": []
   },
   "outputs": [
    {
     "data": {
      "image/png": "[encoded data removed]",
      "text/plain": [
       "<Figure size 640x480 with 1 Axes>"
      ]
     },
     "metadata": {},
     "output_type": "display_data"
    },
    {
     "name": "stdout",
     "output_type": "stream",
     "text": [
      " ship plane  deer  bird\n"
     ]
    }
   ],
   "source": [
    "import matplotlib.pyplot as plt\n",
    "import numpy as np\n",
    "# function to show an image\n",
    "def imshow(img):\n",
    "    img = img / 2 + 0.5 # unnormalize\n",
    "    npimg = img.numpy()\n",
    "    plt.imshow(np.transpose(npimg, (1, 2, 0)))\n",
    "    plt.show()\n",
    "# get some random training images\n",
    "dataiter = iter(trainloader)\n",
    "images, labels = next(dataiter)\n",
    "# show images\n",
    "imshow(torchvision.utils.make_grid(images))\n",
    "# print true labels of the images\n",
    "print(' '.join('%5s' % classes[labels[j]] for j in range(4)))"
   ]
  },
  {
   "cell_type": "code",
   "execution_count": 115,
   "id": "c2e0f973-b697-4931-a43a-46847417b591",
   "metadata": {
    "tags": []
   },
   "outputs": [],
   "source": [
    "import torch.nn as nn\n",
    "import torch.nn.functional as F\n",
    "class Net(nn.Module):\n",
    "    def __init__(self):\n",
    "        super(Net, self).__init__()\n",
    "        self.conv1 = nn.Conv2d(3, 6, 5)\n",
    "        self.pool = nn.MaxPool2d(2, 2)\n",
    "        self.conv2 = nn.Conv2d(6, 16, 5)\n",
    "        self.fc1 = nn.Linear(16 * 5 * 5, 120)\n",
    "        self.fc2 = nn.Linear(120, 84)\n",
    "        self.fc3 = nn.Linear(84, 10)\n",
    "    def forward(self, x):\n",
    "        x = self.pool(F.relu(self.conv1(x))) #x = self.conv1(x), x = F.relu(x), x = self.pool(x)\n",
    "        x = self.pool(F.relu(self.conv2(x))) #x = self.conv2(x), x = F.relu(x), x = self.pool(x)\n",
    "        x = x.view(-1, 16 * 5 * 5) #flatten a 16x5x5 tensor to 16x5x5-dimensional vector\n",
    "        x = F.relu(self.fc1(x))\n",
    "        x = F.relu(self.fc2(x))\n",
    "        x = self.fc3(x)\n",
    "        return x\n",
    "net = Net()"
   ]
  },
  {
   "cell_type": "code",
   "execution_count": 61,
   "id": "38e82ac1-275d-42bb-ab4d-1fb2760b0032",
   "metadata": {
    "tags": []
   },
   "outputs": [],
   "source": [
    "import torch.optim as optim\n",
    "criterion = nn.CrossEntropyLoss()\n",
    "optimizer = optim.SGD(net.parameters(), lr=0.001, momentum=0.9)"
   ]
  },
  {
   "cell_type": "code",
   "execution_count": 62,
   "id": "e0dae9be-1d38-42a5-b9d4-84bcbb0137f1",
   "metadata": {
    "tags": []
   },
   "outputs": [
    {
     "name": "stdout",
     "output_type": "stream",
     "text": [
      "[1,  2000] loss: 2.239\n",
      "[1,  4000] loss: 1.901\n",
      "[1,  6000] loss: 1.706\n",
      "[1,  8000] loss: 1.600\n",
      "[1, 10000] loss: 1.512\n",
      "[1, 12000] loss: 1.489\n",
      "[2,  2000] loss: 1.423\n",
      "[2,  4000] loss: 1.367\n",
      "[2,  6000] loss: 1.345\n",
      "[2,  8000] loss: 1.328\n",
      "[2, 10000] loss: 1.302\n",
      "[2, 12000] loss: 1.253\n",
      "[3,  2000] loss: 1.198\n",
      "[3,  4000] loss: 1.172\n",
      "[3,  6000] loss: 1.212\n",
      "[3,  8000] loss: 1.193\n",
      "[3, 10000] loss: 1.167\n",
      "[3, 12000] loss: 1.174\n",
      "[4,  2000] loss: 1.085\n",
      "[4,  4000] loss: 1.094\n",
      "[4,  6000] loss: 1.094\n",
      "[4,  8000] loss: 1.078\n",
      "[4, 10000] loss: 1.121\n",
      "[4, 12000] loss: 1.061\n",
      "[5,  2000] loss: 1.006\n",
      "[5,  4000] loss: 1.027\n",
      "[5,  6000] loss: 1.011\n",
      "[5,  8000] loss: 1.017\n",
      "[5, 10000] loss: 1.036\n",
      "[5, 12000] loss: 1.037\n",
      "[6,  2000] loss: 0.923\n",
      "[6,  4000] loss: 0.964\n",
      "[6,  6000] loss: 0.965\n",
      "[6,  8000] loss: 0.972\n",
      "[6, 10000] loss: 0.957\n",
      "[6, 12000] loss: 0.974\n",
      "[7,  2000] loss: 0.886\n",
      "[7,  4000] loss: 0.915\n",
      "[7,  6000] loss: 0.906\n",
      "[7,  8000] loss: 0.923\n",
      "[7, 10000] loss: 0.939\n",
      "[7, 12000] loss: 0.946\n",
      "[8,  2000] loss: 0.814\n",
      "[8,  4000] loss: 0.851\n",
      "[8,  6000] loss: 0.880\n",
      "[8,  8000] loss: 0.886\n",
      "[8, 10000] loss: 0.905\n",
      "[8, 12000] loss: 0.911\n",
      "[9,  2000] loss: 0.791\n",
      "[9,  4000] loss: 0.824\n",
      "[9,  6000] loss: 0.837\n",
      "[9,  8000] loss: 0.858\n",
      "[9, 10000] loss: 0.862\n",
      "[9, 12000] loss: 0.861\n",
      "[10,  2000] loss: 0.784\n",
      "[10,  4000] loss: 0.811\n",
      "[10,  6000] loss: 0.816\n",
      "[10,  8000] loss: 0.838\n",
      "[10, 10000] loss: 0.835\n",
      "[10, 12000] loss: 0.837\n",
      "[11,  2000] loss: 0.747\n",
      "[11,  4000] loss: 0.776\n",
      "[11,  6000] loss: 0.794\n",
      "[11,  8000] loss: 0.797\n",
      "[11, 10000] loss: 0.814\n",
      "[11, 12000] loss: 0.815\n",
      "[12,  2000] loss: 0.721\n",
      "[12,  4000] loss: 0.758\n",
      "[12,  6000] loss: 0.752\n",
      "[12,  8000] loss: 0.784\n",
      "[12, 10000] loss: 0.786\n",
      "[12, 12000] loss: 0.797\n",
      "[13,  2000] loss: 0.702\n",
      "[13,  4000] loss: 0.730\n",
      "[13,  6000] loss: 0.748\n",
      "[13,  8000] loss: 0.759\n",
      "[13, 10000] loss: 0.792\n",
      "[13, 12000] loss: 0.767\n",
      "[14,  2000] loss: 0.691\n",
      "[14,  4000] loss: 0.695\n",
      "[14,  6000] loss: 0.727\n",
      "[14,  8000] loss: 0.757\n",
      "[14, 10000] loss: 0.759\n",
      "[14, 12000] loss: 0.791\n",
      "[15,  2000] loss: 0.662\n",
      "[15,  4000] loss: 0.702\n",
      "[15,  6000] loss: 0.713\n",
      "[15,  8000] loss: 0.743\n",
      "[15, 10000] loss: 0.736\n",
      "[15, 12000] loss: 0.770\n",
      "[16,  2000] loss: 0.641\n",
      "[16,  4000] loss: 0.681\n",
      "[16,  6000] loss: 0.680\n",
      "[16,  8000] loss: 0.723\n",
      "[16, 10000] loss: 0.735\n",
      "[16, 12000] loss: 0.739\n",
      "[17,  2000] loss: 0.650\n",
      "[17,  4000] loss: 0.638\n",
      "[17,  6000] loss: 0.688\n",
      "[17,  8000] loss: 0.700\n",
      "[17, 10000] loss: 0.696\n",
      "[17, 12000] loss: 0.741\n",
      "[18,  2000] loss: 0.617\n",
      "[18,  4000] loss: 0.646\n",
      "[18,  6000] loss: 0.678\n",
      "[18,  8000] loss: 0.695\n",
      "[18, 10000] loss: 0.700\n",
      "[18, 12000] loss: 0.718\n",
      "[19,  2000] loss: 0.598\n",
      "[19,  4000] loss: 0.625\n",
      "[19,  6000] loss: 0.666\n",
      "[19,  8000] loss: 0.681\n",
      "[19, 10000] loss: 0.707\n",
      "[19, 12000] loss: 0.726\n",
      "[20,  2000] loss: 0.592\n",
      "[20,  4000] loss: 0.634\n",
      "[20,  6000] loss: 0.659\n",
      "[20,  8000] loss: 0.681\n",
      "[20, 10000] loss: 0.702\n",
      "[20, 12000] loss: 0.703\n",
      "[21,  2000] loss: 0.574\n",
      "[21,  4000] loss: 0.607\n",
      "[21,  6000] loss: 0.665\n",
      "[21,  8000] loss: 0.663\n",
      "[21, 10000] loss: 0.693\n",
      "[21, 12000] loss: 0.724\n",
      "[22,  2000] loss: 0.584\n",
      "[22,  4000] loss: 0.613\n",
      "[22,  6000] loss: 0.637\n",
      "[22,  8000] loss: 0.679\n",
      "[22, 10000] loss: 0.676\n",
      "[22, 12000] loss: 0.677\n",
      "[23,  2000] loss: 0.556\n",
      "[23,  4000] loss: 0.588\n",
      "[23,  6000] loss: 0.631\n",
      "[23,  8000] loss: 0.659\n",
      "[23, 10000] loss: 0.673\n",
      "[23, 12000] loss: 0.675\n",
      "[24,  2000] loss: 0.563\n",
      "[24,  4000] loss: 0.607\n",
      "[24,  6000] loss: 0.627\n",
      "[24,  8000] loss: 0.681\n",
      "[24, 10000] loss: 0.686\n",
      "[24, 12000] loss: 0.675\n",
      "[25,  2000] loss: 0.555\n",
      "[25,  4000] loss: 0.598\n",
      "[25,  6000] loss: 0.622\n",
      "[25,  8000] loss: 0.652\n",
      "[25, 10000] loss: 0.681\n",
      "[25, 12000] loss: 0.684\n",
      "[26,  2000] loss: 0.551\n",
      "[26,  4000] loss: 0.568\n",
      "[26,  6000] loss: 0.614\n",
      "[26,  8000] loss: 0.649\n",
      "[26, 10000] loss: 0.667\n",
      "[26, 12000] loss: 0.669\n",
      "[27,  2000] loss: 0.568\n",
      "[27,  4000] loss: 0.593\n",
      "[27,  6000] loss: 0.605\n",
      "[27,  8000] loss: 0.608\n",
      "[27, 10000] loss: 0.649\n",
      "[27, 12000] loss: 0.668\n",
      "[28,  2000] loss: 0.547\n",
      "[28,  4000] loss: 0.583\n",
      "[28,  6000] loss: 0.617\n",
      "[28,  8000] loss: 0.646\n",
      "[28, 10000] loss: 0.660\n",
      "[28, 12000] loss: 0.655\n",
      "[29,  2000] loss: 0.524\n",
      "[29,  4000] loss: 0.557\n",
      "[29,  6000] loss: 0.607\n",
      "[29,  8000] loss: 0.614\n",
      "[29, 10000] loss: 0.644\n",
      "[29, 12000] loss: 0.662\n",
      "[30,  2000] loss: 0.527\n",
      "[30,  4000] loss: 0.590\n",
      "[30,  6000] loss: 0.599\n",
      "[30,  8000] loss: 0.625\n",
      "[30, 10000] loss: 0.662\n",
      "[30, 12000] loss: 0.637\n",
      "Finished Training\n"
     ]
    },
    {
     "data": {
      "image/png": "[encoded data removed]",
      "text/plain": [
       "<Figure size 640x480 with 1 Axes>"
      ]
     },
     "metadata": {},
     "output_type": "display_data"
    }
   ],
   "source": [
    "loss_history = []\n",
    "epoch = 30\n",
    "for e in range(epoch): # loop over the dataset multiple times\n",
    "    running_loss = 0.0\n",
    "    for i, data in enumerate(trainloader, 0):\n",
    "        # get the inputs; data is a list of [inputs, labels]\n",
    "        inputs, labels = data\n",
    "        # zero the parameter gradients\n",
    "        optimizer.zero_grad()\n",
    "        # forward + backward + optimize\n",
    "        outputs = net(inputs)\n",
    "        loss = criterion(outputs, labels)\n",
    "        loss.backward()\n",
    "        optimizer.step()\n",
    "        # print statistics\n",
    "        running_loss += loss.item()\n",
    "        if i % 2000 == 1999: # print every 2000 mini-batches\n",
    "            print('[%d, %5d] loss: %.3f' %\n",
    "            (e + 1, i + 1, running_loss / 2000))\n",
    "            loss_history.append(running_loss)\n",
    "            running_loss = 0.0\n",
    "print('Finished Training')\n",
    "plt.plot(loss_history, label = 'training loss', color = 'r')\n",
    "plt.legend(loc = \"upper left\")\n",
    "plt.show()"
   ]
  },
  {
   "cell_type": "code",
   "execution_count": 107,
   "id": "357ab5d9-3334-4cb5-a6aa-bede5c3e3f49",
   "metadata": {
    "tags": []
   },
   "outputs": [],
   "source": [
    "PATH = './cifar_net.pth'\n",
    "#torch.save(net.state_dict(), PATH)"
   ]
  },
  {
   "cell_type": "code",
   "execution_count": 111,
   "id": "440bdb4c-e18d-4a31-a110-6581669b5aff",
   "metadata": {
    "tags": []
   },
   "outputs": [
    {
     "data": {
      "image/png": "[encoded data removed]",
      "text/plain": [
       "<Figure size 640x480 with 1 Axes>"
      ]
     },
     "metadata": {},
     "output_type": "display_data"
    },
    {
     "name": "stdout",
     "output_type": "stream",
     "text": [
      "GroundTruth:    cat  ship  ship plane\n"
     ]
    }
   ],
   "source": [
    "dataiter = iter(testloader)\n",
    "images, labels = next(dataiter)\n",
    "# print images\n",
    "imshow(torchvision.utils.make_grid(images))\n",
    "print('GroundTruth: ', ' '.join('%5s' % classes[labels[j]] for j in range(4)))"
   ]
  },
  {
   "cell_type": "code",
   "execution_count": 112,
   "id": "316d5082-258e-4f9d-a03c-ecbfbf72b0ed",
   "metadata": {
    "tags": []
   },
   "outputs": [],
   "source": [
    "#load the trained network\n",
    "net = Net()\n",
    "net.load_state_dict(torch.load(PATH))\n",
    "outputs = net(images)"
   ]
  },
  {
   "cell_type": "code",
   "execution_count": 113,
   "id": "ccd32654-049b-4b1b-95b2-dd4bbfb75719",
   "metadata": {
    "tags": []
   },
   "outputs": [
    {
     "name": "stdout",
     "output_type": "stream",
     "text": [
      "Predicted:   frog  ship  ship plane\n"
     ]
    }
   ],
   "source": [
    "_, predicted_labels = torch.max(outputs, 1)\n",
    "print('Predicted: ', ' '.join('%5s' % classes[predicted_labels[j]] for j in range(4)))"
   ]
  },
  {
   "cell_type": "code",
   "execution_count": 114,
   "id": "6442c124-721e-4715-8a4a-6f9bcf2ba297",
   "metadata": {
    "tags": []
   },
   "outputs": [
    {
     "name": "stdout",
     "output_type": "stream",
     "text": [
      "Accuracy of the network on the test images: 59 %\n"
     ]
    }
   ],
   "source": [
    "correct = 0\n",
    "total = 0\n",
    "with torch.no_grad():\n",
    "    for data in testloader:\n",
    "        images, groundtruth_labels = data\n",
    "        outputs = net(images)\n",
    "        _, predicted_labels = torch.max(outputs.data, 1)\n",
    "        total += groundtruth_labels.size(0)\n",
    "        correct += (predicted_labels == groundtruth_labels).sum().item()\n",
    "print('Accuracy of the network on the test images: %d %%' % (100 * correct / total))"
   ]
  },
  {
   "cell_type": "code",
   "execution_count": 68,
   "id": "509e7750-5924-4ecc-851e-ea48d194c7c5",
   "metadata": {
    "tags": []
   },
   "outputs": [
    {
     "name": "stdout",
     "output_type": "stream",
     "text": [
      "Accuracy of plane : 69 %\n",
      "Accuracy of   car : 79 %\n",
      "Accuracy of  bird : 48 %\n",
      "Accuracy of   cat : 45 %\n",
      "Accuracy of  deer : 49 %\n",
      "Accuracy of   dog : 39 %\n",
      "Accuracy of  frog : 67 %\n",
      "Accuracy of horse : 64 %\n",
      "Accuracy of  ship : 66 %\n",
      "Accuracy of truck : 65 %\n"
     ]
    }
   ],
   "source": [
    "class_correct = list(0. for i in range(10))\n",
    "class_total = list(0. for i in range(10))\n",
    "with torch.no_grad():\n",
    "    for data in testloader:\n",
    "        images, groundtruth_labels = data\n",
    "        outputs = net(images)\n",
    "        _, predicted_labels = torch.max(outputs, 1)\n",
    "        c = (predicted_labels == groundtruth_labels).squeeze()\n",
    "        for i in range(4):\n",
    "            label = groundtruth_labels[i]\n",
    "            class_correct[label] += c[i].item()\n",
    "            class_total[label] += 1\n",
    "for i in range(10):\n",
    "    print('Accuracy of %5s : %2d %%' % (\n",
    "    classes[i], 100 * class_correct[i] / class_total[i]))"
   ]
  },
  {
   "cell_type": "markdown",
   "id": "31943762-223d-4d98-9c19-72277082e53b",
   "metadata": {},
   "source": [
    "#### Task 1"
   ]
  },
  {
   "cell_type": "code",
   "execution_count": 69,
   "id": "76ac50a0-dafd-43e4-9530-c9b8f08d9c4c",
   "metadata": {
    "tags": []
   },
   "outputs": [
    {
     "name": "stdout",
     "output_type": "stream",
     "text": [
      "Confusion Matrix:\n",
      "[[690  46  48  26  27  10   9  19  81  44]\n",
      " [ 35 796  21  12   6   8   8  10  35  69]\n",
      " [104   8 483 104 101  55  70  29  21  25]\n",
      " [ 36  24 106 459  75 114  72  54  26  34]\n",
      " [ 36   7 131 110 496  45  74  72  18  11]\n",
      " [ 23   9 101 265  64 391  34  74  18  21]\n",
      " [  5  18  80 117  57  26 670   7   6  14]\n",
      " [ 29  16  62  73  74  46  10 646  11  33]\n",
      " [168  53  13  26   9   4   8   7 667  45]\n",
      " [ 41 159  17  21   9   6  14  19  56 658]]\n"
     ]
    }
   ],
   "source": [
    "# Initialize class_correct and class_total\n",
    "class_correct = list(0. for i in range(10))\n",
    "class_total = list(0. for i in range(10))\n",
    "\n",
    "# Initialize variables to store all ground truth and predicted labels\n",
    "all_groundtruth_labels = []\n",
    "all_predicted_labels = []\n",
    "\n",
    "with torch.no_grad():\n",
    "    for data in testloader:\n",
    "        images, groundtruth_labels = data\n",
    "        all_groundtruth_labels += groundtruth_labels\n",
    "        outputs = net(images)\n",
    "        _, predicted_labels = torch.max(outputs, 1)\n",
    "        c = (predicted_labels == groundtruth_labels).squeeze()\n",
    "        all_predicted_labels += predicted_labels\n",
    "        for i in range(4):\n",
    "            label = groundtruth_labels[i]\n",
    "            class_correct[label] += c[i].item()\n",
    "            class_total[label] += 1\n",
    "# Calculate confusion matrix\n",
    "confusion_matrix = np.zeros((10, 10), dtype=int)\n",
    "for i in range(len(all_groundtruth_labels)):\n",
    "    true_label = all_groundtruth_labels[i]\n",
    "    predicted_label = all_predicted_labels[i]\n",
    "    confusion_matrix[true_label][predicted_label] += 1\n",
    "\n",
    "# Print confusion matrix\n",
    "print(\"Confusion Matrix:\")\n",
    "print(confusion_matrix)"
   ]
  },
  {
   "cell_type": "markdown",
   "id": "d3be9687-0b3f-48c2-87ee-c8c74355dc86",
   "metadata": {},
   "source": [
    "#### Task 2.1"
   ]
  },
  {
   "cell_type": "code",
   "execution_count": 219,
   "id": "215881af-c82d-45f6-a55d-0096b1894cc4",
   "metadata": {
    "tags": []
   },
   "outputs": [],
   "source": [
    "import torch\n",
    "import torchvision\n",
    "import torchvision.transforms as transforms\n",
    "from torchvision import datasets\n",
    "transform = transforms.Compose([transforms.Resize((32,32)), # you can change the image size, but need to change the architecture accordingly\n",
    "                               transforms.ToTensor(),\n",
    "                               transforms.Normalize((0.5, 0.5, 0.5), (0.5, 0.5, 0.5))])\n",
    "trainset = datasets.ImageFolder('C:\\\\Users\\\\User\\\\Desktop\\\\Class Folder\\\\Computer Vision\\\\FoodImages\\\\Train', transform=transform)\n",
    "testset = datasets.ImageFolder('C:\\\\Users\\\\User\\\\Desktop\\\\Class Folder\\\\Computer Vision\\\\FoodImages\\\\Test', transform=transform)\n",
    "classes = ('Cakes', 'Pasta', 'Pizza')\n",
    "trainloader = torch.utils.data.DataLoader(trainset, batch_size=4, shuffle=True, num_workers=2)\n",
    "testloader = torch.utils.data.DataLoader(testset, batch_size=4, shuffle=True, num_workers=2)"
   ]
  },
  {
   "cell_type": "code",
   "execution_count": 220,
   "id": "ebc36ccf-ceb0-4eea-8cfe-eddb6984ffa0",
   "metadata": {
    "tags": []
   },
   "outputs": [
    {
     "data": {
      "image/png": "[encoded data removed]",
      "text/plain": [
       "<Figure size 640x480 with 1 Axes>"
      ]
     },
     "metadata": {},
     "output_type": "display_data"
    },
    {
     "name": "stdout",
     "output_type": "stream",
     "text": [
      "GroundTruth:  Pizza Pasta Cakes Pizza\n"
     ]
    }
   ],
   "source": [
    "dataiter = iter(testloader)\n",
    "images, labels = next(dataiter)\n",
    "# print images\n",
    "imshow(torchvision.utils.make_grid(images))\n",
    "print('GroundTruth: ', ' '.join('%5s' % classes[labels[j]] for j in range(4)))"
   ]
  },
  {
   "cell_type": "code",
   "execution_count": 221,
   "id": "d4bfd5d9-53d5-4364-9be7-d2dc9c189ebe",
   "metadata": {
    "tags": []
   },
   "outputs": [],
   "source": [
    "import torch.nn as nn\n",
    "import torch.nn.functional as F\n",
    "class Net(nn.Module):\n",
    "    def __init__(self):\n",
    "        super(Net, self).__init__()\n",
    "        self.conv1 = nn.Conv2d(3, 6, 5)\n",
    "        self.pool = nn.MaxPool2d(2, 2)\n",
    "        self.conv2 = nn.Conv2d(6, 16, 5)\n",
    "        self.fc1 = nn.Linear(16 * 5 * 5, 120)\n",
    "        self.fc2 = nn.Linear(120, 84)\n",
    "        self.fc3 = nn.Linear(84, 3)\n",
    "    def forward(self, x):\n",
    "        x = self.pool(F.relu(self.conv1(x))) #x = self.conv1(x), x = F.relu(x), x = self.pool(x)\n",
    "        x = self.pool(F.relu(self.conv2(x))) #x = self.conv2(x), x = F.relu(x), x = self.pool(x)\n",
    "        x = x.view(-1, 16 * 5 * 5) #flatten a 16x5x5 tensor to 16x5x5-dimensional vector\n",
    "        x = F.relu(self.fc1(x))\n",
    "        x = F.relu(self.fc2(x))\n",
    "        x = self.fc3(x)\n",
    "        return x\n",
    "net = Net()"
   ]
  },
  {
   "cell_type": "code",
   "execution_count": 222,
   "id": "74100ed3-fb1e-494b-8145-dffdd3602f4f",
   "metadata": {
    "tags": []
   },
   "outputs": [],
   "source": [
    "PATH = './cifar_net.pth_3'\n",
    "#load the trained network\n",
    "net = Net()\n",
    "net.load_state_dict(torch.load(PATH))\n",
    "outputs = net(images)"
   ]
  },
  {
   "cell_type": "code",
   "execution_count": 223,
   "id": "4f18fc45-b000-48ba-bb53-761972f17d8e",
   "metadata": {
    "tags": []
   },
   "outputs": [
    {
     "name": "stdout",
     "output_type": "stream",
     "text": [
      "Predicted:  Pasta Pasta Pizza Pasta\n"
     ]
    }
   ],
   "source": [
    "_, predicted_labels = torch.max(outputs, 1)\n",
    "print('Predicted: ', ' '.join('%5s' % classes[predicted_labels[j]] for j in range(4)))"
   ]
  },
  {
   "cell_type": "code",
   "execution_count": 224,
   "id": "b95936ef-39a6-429b-82c3-e0c44a18add8",
   "metadata": {
    "tags": []
   },
   "outputs": [
    {
     "name": "stdout",
     "output_type": "stream",
     "text": [
      "Accuracy of the network on the test images: 67 %\n"
     ]
    }
   ],
   "source": [
    "correct = 0\n",
    "total = 0\n",
    "with torch.no_grad():\n",
    "    for data in testloader:\n",
    "        images, groundtruth_labels = data\n",
    "        outputs = net(images)\n",
    "        _, predicted_labels = torch.max(outputs.data, 1)\n",
    "        total += groundtruth_labels.size(0)\n",
    "        correct += (predicted_labels == groundtruth_labels).sum().item()\n",
    "print('Accuracy of the network on the test images: %d %%' % (100 * correct / total))"
   ]
  },
  {
   "cell_type": "code",
   "execution_count": 79,
   "id": "bd883307-6625-4abf-b5f2-cf357f73223e",
   "metadata": {
    "tags": []
   },
   "outputs": [
    {
     "name": "stdout",
     "output_type": "stream",
     "text": [
      "Accuracy of Cakes : 66 %\n",
      "Accuracy of Pasta : 73 %\n",
      "Accuracy of Pizza : 63 %\n"
     ]
    }
   ],
   "source": [
    "class_correct = list(0. for i in range(3))\n",
    "class_total = list(0. for i in range(3))\n",
    "with torch.no_grad():\n",
    "    for data in testloader:\n",
    "        images, groundtruth_labels = data\n",
    "        outputs = net(images)\n",
    "        _, predicted_labels = torch.max(outputs, 1)\n",
    "        c = (predicted_labels == groundtruth_labels).squeeze()\n",
    "        for i in range(len(groundtruth_labels)):\n",
    "            label = groundtruth_labels[i]\n",
    "            class_correct[label] += c[i].item()\n",
    "            class_total[label] += 1\n",
    "for i in range(3):\n",
    "    print('Accuracy of %5s : %2d %%' % (\n",
    "    classes[i], 100 * class_correct[i] / class_total[i]))"
   ]
  },
  {
   "cell_type": "code",
   "execution_count": 80,
   "id": "ccf0446a-b62c-4799-af4c-3f746161d554",
   "metadata": {
    "tags": []
   },
   "outputs": [
    {
     "name": "stdout",
     "output_type": "stream",
     "text": [
      "Confusion Matrix:\n",
      "[[20  8  2]\n",
      " [ 1 22  7]\n",
      " [ 0 11 19]]\n"
     ]
    }
   ],
   "source": [
    "# Initialize class_correct and class_total\n",
    "class_correct = list(0. for i in range(10))\n",
    "class_total = list(0. for i in range(10))\n",
    "\n",
    "# Initialize variables to store all ground truth and predicted labels\n",
    "all_groundtruth_labels = []\n",
    "all_predicted_labels = []\n",
    "\n",
    "with torch.no_grad():\n",
    "    for data in testloader:\n",
    "        images, groundtruth_labels = data\n",
    "        all_groundtruth_labels += groundtruth_labels\n",
    "        outputs = net(images)\n",
    "        _, predicted_labels = torch.max(outputs, 1)\n",
    "        c = (predicted_labels == groundtruth_labels).squeeze()\n",
    "        all_predicted_labels += predicted_labels\n",
    "        for i in range(len(groundtruth_labels)):\n",
    "            label = groundtruth_labels[i]\n",
    "            class_correct[label] += c[i].item()\n",
    "            class_total[label] += 1\n",
    "# Calculate confusion matrix\n",
    "confusion_matrix = np.zeros((3, 3), dtype=int)\n",
    "for i in range(len(all_groundtruth_labels)):\n",
    "    true_label = all_groundtruth_labels[i]\n",
    "    predicted_label = all_predicted_labels[i]\n",
    "    confusion_matrix[true_label][predicted_label] += 1\n",
    "\n",
    "# Print confusion matrix\n",
    "print(\"Confusion Matrix:\")\n",
    "print(confusion_matrix)"
   ]
  },
  {
   "cell_type": "markdown",
   "id": "b762ff3f-a428-4490-9dd7-0b0f8cfdf375",
   "metadata": {},
   "source": [
    "#### Task 2.2"
   ]
  },
  {
   "cell_type": "code",
   "execution_count": 231,
   "id": "9af855fe-cfad-4af5-8b2d-dc57e4ea05a5",
   "metadata": {
    "tags": []
   },
   "outputs": [
    {
     "name": "stdout",
     "output_type": "stream",
     "text": [
      "Finished Fine-Tuning\n"
     ]
    }
   ],
   "source": [
    "import torch\n",
    "import torch.nn as nn\n",
    "import torch.optim as optim\n",
    "from torchvision import datasets, transforms\n",
    "\n",
    "# Define your custom neural network architecture (you've already done this)\n",
    "class Net(nn.Module):\n",
    "    def __init__(self):\n",
    "        super(Net, self).__init__()\n",
    "        self.conv1 = nn.Conv2d(3, 6, 5)\n",
    "        self.pool = nn.MaxPool2d(2, 2)\n",
    "        self.conv2 = nn.Conv2d(6, 16, 5)\n",
    "        self.fc1 = nn.Linear(16 * 5 * 5, 120)\n",
    "        self.fc2 = nn.Linear(120, 84)\n",
    "        self.fc3 = nn.Linear(84, 10)\n",
    "    def forward(self, x):\n",
    "        x = self.pool(F.relu(self.conv1(x))) #x = self.conv1(x), x = F.relu(x), x = self.pool(x)\n",
    "        x = self.pool(F.relu(self.conv2(x))) #x = self.conv2(x), x = F.relu(x), x = self.pool(x)\n",
    "        x = x.view(-1, 16 * 5 * 5) #flatten a 16x5x5 tensor to 16x5x5-dimensional vector\n",
    "        x = F.relu(self.fc1(x))\n",
    "        x = F.relu(self.fc2(x))\n",
    "        x = self.fc3(x)\n",
    "        return x\n",
    "\n",
    "# Load the pre-trained CIFAR-10 model and modify it for the new task\n",
    "PATH = './cifar_net.pth'\n",
    "net = Net()\n",
    "net.load_state_dict(torch.load(PATH))\n",
    "net.fc3 = nn.Linear(84, 3)  # Modify the output layer for 3 classes\n",
    "\n",
    "# Define the loss function and optimizer\n",
    "criterion = nn.CrossEntropyLoss()\n",
    "optimizer = optim.SGD(net.parameters(), lr=0.001, momentum=0.9)\n",
    "\n",
    "import torch\n",
    "import torchvision\n",
    "import torchvision.transforms as transforms\n",
    "from torchvision import datasets\n",
    "transform = transforms.Compose([transforms.Resize((32,32)), # you can change the image size, but need to change the architecture accordingly\n",
    "                               transforms.ToTensor(),\n",
    "                               transforms.Normalize((0.5, 0.5, 0.5), (0.5, 0.5, 0.5))])\n",
    "trainset = datasets.ImageFolder('C:\\\\Users\\\\User\\\\Desktop\\\\Class Folder\\\\Computer Vision\\\\FoodImages\\\\Train', transform=transform)\n",
    "testset = datasets.ImageFolder('C:\\\\Users\\\\User\\\\Desktop\\\\Class Folder\\\\Computer Vision\\\\FoodImages\\\\Test', transform=transform)\n",
    "classes = ('Cakes', 'Pasta', 'Pizza')\n",
    "trainloader = torch.utils.data.DataLoader(trainset, batch_size=4, shuffle=True, num_workers=2)\n",
    "testloader = torch.utils.data.DataLoader(testset, batch_size=4, shuffle=True, num_workers=2)\n",
    "\n",
    "# Set the model to training mode\n",
    "net.train()\n",
    "\n",
    "# Fine-tuning parameters\n",
    "num_epochs = 10  \n",
    "\n",
    "# Fine-tuning loop\n",
    "for epoch in range(num_epochs):\n",
    "    running_loss = 0.0\n",
    "    for i, data in enumerate(trainloader, 0):\n",
    "        inputs, labels = data\n",
    "        \n",
    "        # Zero the parameter gradients\n",
    "        optimizer.zero_grad()\n",
    "        \n",
    "        # Forward pass\n",
    "        outputs = net(inputs)\n",
    "        \n",
    "        # Calculate the loss\n",
    "        loss = criterion(outputs, labels)\n",
    "        \n",
    "        # Backpropagation and optimization\n",
    "        loss.backward()\n",
    "        optimizer.step()\n",
    "        \n",
    "        # Print statistics (optional)\n",
    "        running_loss += loss.item()\n",
    "        if i % 200 == 199:  # Print every 200 mini-batches\n",
    "            print(f'Epoch [{epoch + 1}/{num_epochs}], Batch [{i + 1}/{len(trainloader)}], Loss: {running_loss / 200:.3f}')\n",
    "            running_loss = 0.0\n",
    "\n",
    "print('Finished Fine-Tuning')\n"
   ]
  },
  {
   "cell_type": "code",
   "execution_count": 232,
   "id": "3b4fa292-1b50-4441-913d-d2a8ee830d9b",
   "metadata": {
    "tags": []
   },
   "outputs": [
    {
     "data": {
      "image/png": "[encoded data removed]",
      "text/plain": [
       "<Figure size 640x480 with 1 Axes>"
      ]
     },
     "metadata": {},
     "output_type": "display_data"
    },
    {
     "name": "stdout",
     "output_type": "stream",
     "text": [
      "GroundTruth:  Pasta Pasta Pasta Cakes\n"
     ]
    }
   ],
   "source": [
    "dataiter = iter(testloader)\n",
    "images, labels = next(dataiter)\n",
    "# print images\n",
    "imshow(torchvision.utils.make_grid(images))\n",
    "print('GroundTruth: ', ' '.join('%5s' % classes[labels[j]] for j in range(4)))"
   ]
  },
  {
   "cell_type": "code",
   "execution_count": 233,
   "id": "c1ae70f5-1f50-4455-a944-54525d6fb070",
   "metadata": {
    "tags": []
   },
   "outputs": [
    {
     "name": "stdout",
     "output_type": "stream",
     "text": [
      "Predicted:  Pizza Pasta Pasta Cakes\n"
     ]
    }
   ],
   "source": [
    "outputs=[]\n",
    "outputs = net(images)\n",
    "_, predicted_labels = torch.max(outputs, 1)\n",
    "print('Predicted: ', ' '.join('%5s' % classes[predicted_labels[j]] for j in range(4)))"
   ]
  },
  {
   "cell_type": "code",
   "execution_count": 234,
   "id": "dc600407-52db-4715-b575-a0adc2a2c4e9",
   "metadata": {
    "tags": []
   },
   "outputs": [
    {
     "name": "stdout",
     "output_type": "stream",
     "text": [
      "Accuracy of the network on the 10000 test images: 71 %\n"
     ]
    }
   ],
   "source": [
    "correct = 0\n",
    "total = 0\n",
    "with torch.no_grad():\n",
    "    for data in testloader:\n",
    "        images, groundtruth_labels = data\n",
    "        outputs = net(images)\n",
    "        _, predicted_labels = torch.max(outputs.data, 1)\n",
    "        total += groundtruth_labels.size(0)\n",
    "        correct += (predicted_labels == groundtruth_labels).sum().item()\n",
    "print('Accuracy of the network on the 10000 test images: %d %%' % (100 * correct / total))"
   ]
  },
  {
   "cell_type": "code",
   "execution_count": 235,
   "id": "943d6a69-8857-4d4a-aeb3-e59097f07a30",
   "metadata": {
    "tags": []
   },
   "outputs": [
    {
     "name": "stdout",
     "output_type": "stream",
     "text": [
      "Accuracy of Cakes : 66 %\n",
      "Accuracy of Pasta : 73 %\n",
      "Accuracy of Pizza : 73 %\n"
     ]
    }
   ],
   "source": [
    "class_correct = list(0. for i in range(10))\n",
    "class_total = list(0. for i in range(10))\n",
    "with torch.no_grad():\n",
    "    for data in testloader:\n",
    "        images, groundtruth_labels = data\n",
    "        outputs = net(images)\n",
    "        _, predicted_labels = torch.max(outputs, 1)\n",
    "        c = (predicted_labels == groundtruth_labels).squeeze()\n",
    "        for i in range(len(groundtruth_labels)):\n",
    "            label = groundtruth_labels[i]\n",
    "            class_correct[label] += c[i].item()\n",
    "            class_total[label] += 1\n",
    "for i in range(3):\n",
    "    print('Accuracy of %5s : %2d %%' % (\n",
    "    classes[i], 100 * class_correct[i] / class_total[i]))"
   ]
  },
  {
   "cell_type": "code",
   "execution_count": 236,
   "id": "b0d55ce4-8501-4957-9b0b-1d39b6dd69e3",
   "metadata": {
    "tags": []
   },
   "outputs": [
    {
     "name": "stdout",
     "output_type": "stream",
     "text": [
      "Confusion Matrix:\n",
      "[[20  6  4]\n",
      " [ 2 22  6]\n",
      " [ 1  7 22]]\n"
     ]
    }
   ],
   "source": [
    "# Initialize class_correct and class_total\n",
    "class_correct = list(0. for i in range(10))\n",
    "class_total = list(0. for i in range(10))\n",
    "\n",
    "# Initialize variables to store all ground truth and predicted labels\n",
    "all_groundtruth_labels = []\n",
    "all_predicted_labels = []\n",
    "\n",
    "with torch.no_grad():\n",
    "    for data in testloader:\n",
    "        images, groundtruth_labels = data\n",
    "        all_groundtruth_labels += groundtruth_labels\n",
    "        outputs = net(images)\n",
    "        _, predicted_labels = torch.max(outputs, 1)\n",
    "        c = (predicted_labels == groundtruth_labels).squeeze()\n",
    "        all_predicted_labels += predicted_labels\n",
    "        for i in range(len(groundtruth_labels)):\n",
    "            label = groundtruth_labels[i]\n",
    "            class_correct[label] += c[i].item()\n",
    "            class_total[label] += 1\n",
    "# Calculate confusion matrix\n",
    "confusion_matrix = np.zeros((3, 3), dtype=int)\n",
    "for i in range(len(all_groundtruth_labels)):\n",
    "    true_label = all_groundtruth_labels[i]\n",
    "    predicted_label = all_predicted_labels[i]\n",
    "    confusion_matrix[true_label][predicted_label] += 1\n",
    "\n",
    "# Print confusion matrix\n",
    "print(\"Confusion Matrix:\")\n",
    "print(confusion_matrix)"
   ]
  },
  {
   "cell_type": "markdown",
   "id": "bd0a1b31-18cf-4a7c-92ef-c989b646a6a2",
   "metadata": {},
   "source": [
    "#### Task 3"
   ]
  },
  {
   "cell_type": "code",
   "execution_count": 181,
   "id": "8ac8fcf7-1684-4b8c-a69c-32668d97ef6c",
   "metadata": {
    "tags": []
   },
   "outputs": [],
   "source": [
    "class Net(nn.Module):\n",
    "    def __init__(self):\n",
    "        super(Net, self).__init__()\n",
    "        self.conv1 = nn.Conv2d(3, 6, 5)\n",
    "        self.pool = nn.MaxPool2d(2, 2)\n",
    "        self.conv2 = nn.Conv2d(6, 16, 5)\n",
    "        self.fc1 = nn.Linear(16 * 5 * 5, 120)\n",
    "        self.fc2 = nn.Linear(120, 84)\n",
    "        self.fc3 = nn.Linear(84, 10)\n",
    "        self.dropout_conv = nn.Dropout2d(0.1)\n",
    "        self.dropout_fc = nn.Dropout(0.1)\n",
    "    def forward(self, x):\n",
    "        x = self.pool(F.relu(self.conv1(x))) #x = self.conv1(x), x = F.relu(x), x = self.pool(x)\n",
    "        x = self.dropout_conv(x)\n",
    "        x = self.pool(F.relu(self.conv2(x))) #x = self.conv2(x), x = F.relu(x), x = self.pool(x)\n",
    "        x = x.view(-1, 16 * 5 * 5) #flatten a 16x5x5 tensor to 16x5x5-dimensional vector\n",
    "        x = F.relu(self.fc1(x))\n",
    "        x = self.dropout_fc(x)\n",
    "        x = F.relu(self.fc2(x))\n",
    "        x = self.fc3(x)\n",
    "        return x"
   ]
  },
  {
   "cell_type": "code",
   "execution_count": 170,
   "id": "a9462a8f-5e5e-4cb6-bf57-0da0d5861524",
   "metadata": {
    "tags": []
   },
   "outputs": [
    {
     "data": {
      "text/plain": [
       "<All keys matched successfully>"
      ]
     },
     "execution_count": 170,
     "metadata": {},
     "output_type": "execute_result"
    }
   ],
   "source": [
    "PATH = './cifar_net.pth'\n",
    "net = Net()\n",
    "net.load_state_dict(torch.load(PATH))"
   ]
  },
  {
   "cell_type": "code",
   "execution_count": 172,
   "id": "5b3f6c5c-0055-4043-b453-62ea44ede4fb",
   "metadata": {
    "tags": []
   },
   "outputs": [
    {
     "data": {
      "image/png": "[encoded data removed]",
      "text/plain": [
       "<Figure size 640x480 with 1 Axes>"
      ]
     },
     "metadata": {},
     "output_type": "display_data"
    },
    {
     "name": "stdout",
     "output_type": "stream",
     "text": [
      "GroundTruth:    cat  ship  ship plane\n",
      "Accuracy of the network on the 10000 test images: 52 %\n",
      "Accuracy of plane : 63 %\n",
      "Accuracy of   car : 72 %\n",
      "Accuracy of  bird : 45 %\n",
      "Confusion Matrix:\n",
      "[[634  52  52  40  36   7  14  27  85  53]\n",
      " [ 50 701  27  34  19   6  24  25  33  81]\n",
      " [110  18 460 100  93  67  64  41  22  25]\n",
      " [ 50  40 123 382  88 113  84  53  25  42]\n",
      " [ 54  18 140 121 435  47  75  77  19  14]\n",
      " [ 28  14 123 247  72 332  37  96  21  30]\n",
      " [ 21  25 117 127  78  32 554  17  12  17]\n",
      " [ 46  19  85  86  78  52   9 570  15  40]\n",
      " [193  77  34  40  17   6  20  15 560  38]\n",
      " [ 61 164  41  44  17  14  20  41  63 535]]\n"
     ]
    }
   ],
   "source": [
    "dataiter = iter(testloader)\n",
    "images, labels = next(dataiter)\n",
    "# print images\n",
    "imshow(torchvision.utils.make_grid(images))\n",
    "print('GroundTruth: ', ' '.join('%5s' % classes[labels[j]] for j in range(4)))\n",
    "correct = 0\n",
    "total = 0\n",
    "with torch.no_grad():\n",
    "    for data in testloader:\n",
    "        images, groundtruth_labels = data\n",
    "        outputs = net(images)\n",
    "        _, predicted_labels = torch.max(outputs.data, 1)\n",
    "        total += groundtruth_labels.size(0)\n",
    "        correct += (predicted_labels == groundtruth_labels).sum().item()\n",
    "\n",
    "print('Accuracy of the network on the 10000 test images: %d %%' % (100 * correct / total))\n",
    "class_correct = list(0. for i in range(10))\n",
    "class_total = list(0. for i in range(10))\n",
    "with torch.no_grad():\n",
    "    for data in testloader:\n",
    "        images, groundtruth_labels = data\n",
    "        outputs = net(images)\n",
    "        _, predicted_labels = torch.max(outputs, 1)\n",
    "        c = (predicted_labels == groundtruth_labels).squeeze()\n",
    "        for i in range(len(groundtruth_labels)):\n",
    "            label = groundtruth_labels[i]\n",
    "            class_correct[label] += c[i].item()\n",
    "            class_total[label] += 1\n",
    "for i in range(3):\n",
    "    print('Accuracy of %5s : %2d %%' % (\n",
    "    classes[i], 100 * class_correct[i] / class_total[i]))\n",
    "# Initialize class_correct and class_total\n",
    "class_correct = list(0. for i in range(10))\n",
    "class_total = list(0. for i in range(10))\n",
    "\n",
    "# Initialize variables to store all ground truth and predicted labels\n",
    "all_groundtruth_labels = []\n",
    "all_predicted_labels = []\n",
    "\n",
    "with torch.no_grad():\n",
    "    for data in testloader:\n",
    "        images, groundtruth_labels = data\n",
    "        all_groundtruth_labels += groundtruth_labels\n",
    "        outputs = net(images)\n",
    "        _, predicted_labels = torch.max(outputs, 1)\n",
    "        c = (predicted_labels == groundtruth_labels).squeeze()\n",
    "        all_predicted_labels += predicted_labels\n",
    "        for i in range(len(groundtruth_labels)):\n",
    "            label = groundtruth_labels[i]\n",
    "            class_correct[label] += c[i].item()\n",
    "            class_total[label] += 1\n",
    "# Calculate confusion matrix\n",
    "confusion_matrix = np.zeros((10, 10), dtype=int)\n",
    "for i in range(len(all_groundtruth_labels)):\n",
    "    true_label = all_groundtruth_labels[i]\n",
    "    predicted_label = all_predicted_labels[i]\n",
    "    confusion_matrix[true_label][predicted_label] += 1\n",
    "\n",
    "# Print confusion matrix\n",
    "print(\"Confusion Matrix:\")\n",
    "print(confusion_matrix)"
   ]
  },
  {
   "cell_type": "markdown",
   "id": "860b24a2-a9de-4b80-ab48-80cdb276c222",
   "metadata": {},
   "source": [
    "#### Task 3.3"
   ]
  },
  {
   "cell_type": "code",
   "execution_count": 180,
   "id": "98fcdb46-6dab-44ef-9d77-d3903696dbd2",
   "metadata": {
    "tags": []
   },
   "outputs": [],
   "source": [
    "class Net(nn.Module):\n",
    "    def __init__(self):\n",
    "        super(Net, self).__init__()\n",
    "        self.conv1 = nn.Conv2d(3, 6, 5)\n",
    "        self.pool = nn.MaxPool2d(2, 2)\n",
    "        self.conv2 = nn.Conv2d(6, 16, 5)\n",
    "        self.fc1 = nn.Linear(16 * 5 * 5, 120)\n",
    "        self.fc2 = nn.Linear(120, 84)\n",
    "        self.fc3 = nn.Linear(84, 10)\n",
    "        self.dropout_conv = nn.Dropout2d(0.1)\n",
    "        self.dropout_fc = nn.Dropout(0.1)\n",
    "    def forward(self, x):\n",
    "        x = self.pool(F.relu(self.conv1(x))) #x = self.conv1(x), x = F.relu(x), x = self.pool(x)\n",
    "        x = self.dropout_conv(x)\n",
    "        x = self.pool(F.relu(self.conv2(x))) #x = self.conv2(x), x = F.relu(x), x = self.pool(x)\n",
    "        x = x.view(-1, 16 * 5 * 5) #flatten a 16x5x5 tensor to 16x5x5-dimensional vector\n",
    "        x = F.relu(self.fc1(x))\n",
    "        x = self.dropout_fc(x)\n",
    "        x = F.relu(self.fc2(x))\n",
    "        x = self.fc3(x)\n",
    "    def feature_extraction(self, x):\n",
    "        x = self.pool(F.relu(self.conv1(x))) #x = self.conv1(x), x = F.relu(x), x = self.pool(x)\n",
    "        x = self.pool(F.relu(self.conv2(x))) #x = self.conv2(x), x = F.relu(x), x = self.pool(x)\n",
    "        x = x.view(-1, 16 * 5 * 5) #flatten a 16x5x5 tensor to 16x5x5-dimensional vector\n",
    "        return x"
   ]
  },
  {
   "cell_type": "code",
   "execution_count": 416,
   "id": "d2a64e40-2f6e-447a-b966-6944f4b9dcab",
   "metadata": {
    "tags": []
   },
   "outputs": [
    {
     "name": "stdout",
     "output_type": "stream",
     "text": [
      "Files already downloaded and verified\n",
      "SVM Accuracy: 0.579\n",
      "AdaBoost Accuracy: 0.368\n"
     ]
    }
   ],
   "source": [
    "import torch\n",
    "import torchvision\n",
    "import torchvision.transforms as transforms\n",
    "import numpy as np\n",
    "from sklearn import svm\n",
    "from sklearn.ensemble import AdaBoostClassifier\n",
    "from sklearn.metrics import accuracy_score\n",
    "\n",
    "# Define a transform to normalize the data\n",
    "transform = transforms.Compose([transforms.ToTensor(), transforms.Normalize((0.5, 0.5, 0.5), (0.5, 0.5, 0.5))])\n",
    "\n",
    "# Load the CIFAR-10 dataset\n",
    "testset = torchvision.datasets.CIFAR10(root='./data', train=False, download=True, transform=transform)\n",
    "testloader = torch.utils.data.DataLoader(testset, batch_size=1, shuffle=False)\n",
    "\n",
    "# Initialize lists to store extracted features and ground truth labels\n",
    "features = []\n",
    "labels = []\n",
    "\n",
    "# Extract features from the test set\n",
    "with torch.no_grad():\n",
    "    for data in testloader:\n",
    "        inputs, groundtruth_labels = data\n",
    "        extracted_features = net.feature_extraction(inputs)\n",
    "        features.append(extracted_features.numpy())\n",
    "        labels.append(groundtruth_labels.numpy())\n",
    "\n",
    "# Flatten the extracted features and labels\n",
    "features = np.vstack(features)\n",
    "labels = np.hstack(labels)\n",
    "\n",
    "# Split the data into training and testing sets\n",
    "split_ratio = 0.8  # You can adjust this ratio\n",
    "split_index = int(len(features) * split_ratio)\n",
    "\n",
    "train_features, test_features = features[:split_index], features[split_index:]\n",
    "train_labels, test_labels = labels[:split_index], labels[split_index:]\n",
    "\n",
    "# Initialize and train an SVM classifier\n",
    "svm_classifier = svm.SVC()\n",
    "svm_classifier.fit(train_features, train_labels)\n",
    "\n",
    "# Make predictions on the test set using SVM\n",
    "svm_predictions = svm_classifier.predict(test_features)\n",
    "\n",
    "# Calculate accuracy using SVM\n",
    "svm_accuracy = accuracy_score(test_labels, svm_predictions)\n",
    "print(\"SVM Accuracy:\", svm_accuracy)\n",
    "\n",
    "# Initialize and train an AdaBoost classifier\n",
    "adaboost_classifier = AdaBoostClassifier(n_estimators=50)\n",
    "adaboost_classifier.fit(train_features, train_labels)\n",
    "\n",
    "# Make predictions on the test set using AdaBoost\n",
    "adaboost_predictions = adaboost_classifier.predict(test_features)\n",
    "\n",
    "# Calculate accuracy using AdaBoost\n",
    "adaboost_accuracy = accuracy_score(test_labels, adaboost_predictions)\n",
    "print(\"AdaBoost Accuracy:\", adaboost_accuracy)"
   ]
  },
  {
   "cell_type": "code",
   "execution_count": null,
   "id": "193f18f6-0184-4a19-9ebe-4c1c664958c9",
   "metadata": {},
   "outputs": [],
   "source": []
  }
 ],
 "metadata": {
  "kernelspec": {
   "display_name": "Python 3 (ipykernel)",
   "language": "python",
   "name": "python3"
  },
  "language_info": {
   "codemirror_mode": {
    "name": "ipython",
    "version": 3
   },
   "file_extension": ".py",
   "mimetype": "text/x-python",
   "name": "python",
   "nbconvert_exporter": "python",
   "pygments_lexer": "ipython3",
   "version": "3.10.12"
  }
 },
 "nbformat": 4,
 "nbformat_minor": 5
}
