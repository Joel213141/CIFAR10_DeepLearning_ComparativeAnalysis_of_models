{
 "cells": [
  {
   "cell_type": "code",
   "execution_count": null,
   "id": "30e64f38",
   "metadata": {},
   "outputs": [],
   "source": [
    "import numpy as np\n",
    "from sklearn import svm\n",
    "from sklearn.ensemble import AdaBoostClassifier\n",
    "\n",
    "def extract_features(model, loader):\n",
    "    features = []\n",
    "    labels = []\n",
    "    with torch.no_grad():\n",
    "        for data in loader:\n",
    "            inputs, groundtruth_labels = data\n",
    "            outputs = model.feature_extraction(inputs)\n",
    "            features.append(outputs.numpy())\n",
    "            labels.append(groundtruth_labels.numpy())\n",
    "    features = np.vstack(features)\n",
    "    labels = np.hstack(labels)\n",
    "    return features, labels\n",
    "\n",
    "def train_classifiers(features, labels):\n",
    "    svm_classifier = svm.SVC()\n",
    "    svm_classifier.fit(features, labels)\n",
    "    adaboost_classifier = AdaBoostClassifier(n_estimators=50)\n",
    "    adaboost_classifier.fit(features, labels)\n",
    "    return svm_classifier, adaboost_classifier"
   ]
  }
 ],
 "metadata": {
  "kernelspec": {
   "display_name": "Python 3 (ipykernel)",
   "language": "python",
   "name": "python3"
  },
  "language_info": {
   "codemirror_mode": {
    "name": "ipython",
    "version": 3
   },
   "file_extension": ".py",
   "mimetype": "text/x-python",
   "name": "python",
   "nbconvert_exporter": "python",
   "pygments_lexer": "ipython3",
   "version": "3.10.12"
  }
 },
 "nbformat": 4,
 "nbformat_minor": 5
}
